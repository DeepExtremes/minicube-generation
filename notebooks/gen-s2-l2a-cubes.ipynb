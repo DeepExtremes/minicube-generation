{
 "cells": [
  {
   "cell_type": "code",
   "execution_count": 17,
   "id": "fe96f2b2-a0b7-492d-a258-8f0824eb76cd",
   "metadata": {},
   "outputs": [],
   "source": [
    "# mandatory imports\n",
    "from xcube.core.store import find_data_store_extensions\n",
    "from xcube.core.store import get_data_store_params_schema\n",
    "from xcube.core.store import new_data_store\n",
    "from xcube.core.select import select_label_subset\n",
    "\n",
    "# Utilities for notebook visualization\n",
    "import shapely.geometry\n",
    "import IPython.display\n",
    "import pandas as pd\n",
    "from IPython.display import JSON\n",
    "import matplotlib.pyplot as plt\n",
    "import math"
   ]
  },
  {
   "cell_type": "code",
   "execution_count": 18,
   "id": "f9af0e41-a8cd-4c60-9d0c-e8eee05d8e3a",
   "metadata": {},
   "outputs": [],
   "source": [
    "sh_store = new_data_store('sentinelhub', num_retries=400)"
   ]
  },
  {
   "cell_type": "code",
   "execution_count": 19,
   "id": "dadebc4f-2ac2-4c38-9958-ca47eb724362",
   "metadata": {},
   "outputs": [
    {
     "data": {
      "application/json": {
       "properties": {
        "bbox": {
         "items": [
          {
           "type": "number"
          },
          {
           "type": "number"
          },
          {
           "type": "number"
          },
          {
           "type": "number"
          }
         ],
         "type": "array"
        },
        "collection_id": {
         "type": "string"
        },
        "crs": {
         "default": "WGS84",
         "enum": [
          "CRS84",
          "WGS84",
          "EPSG:4326",
          "EPSG:3857",
          "EPSG:2154",
          "EPSG:2180",
          "EPSG:2193",
          "EPSG:3003",
          "EPSG:3004",
          "EPSG:3031",
          "EPSG:3035",
          "EPSG:3346",
          "EPSG:3416",
          "EPSG:3765",
          "EPSG:3794",
          "EPSG:3844",
          "EPSG:3912",
          "EPSG:3995",
          "EPSG:4026",
          "EPSG:5514",
          "EPSG:28992",
          "EPSG:32601",
          "EPSG:32602",
          "EPSG:32603",
          "EPSG:32604",
          "EPSG:32605",
          "EPSG:32606",
          "EPSG:32607",
          "EPSG:32608",
          "EPSG:32609",
          "EPSG:32610",
          "EPSG:32611",
          "EPSG:32612",
          "EPSG:32613",
          "EPSG:32614",
          "EPSG:32615",
          "EPSG:32616",
          "EPSG:32617",
          "EPSG:32618",
          "EPSG:32619",
          "EPSG:32620",
          "EPSG:32621",
          "EPSG:32622",
          "EPSG:32623",
          "EPSG:32624",
          "EPSG:32625",
          "EPSG:32626",
          "EPSG:32627",
          "EPSG:32628",
          "EPSG:32629",
          "EPSG:32630",
          "EPSG:32631",
          "EPSG:32632",
          "EPSG:32633",
          "EPSG:32634",
          "EPSG:32635",
          "EPSG:32636",
          "EPSG:32637",
          "EPSG:32638",
          "EPSG:32639",
          "EPSG:32640",
          "EPSG:32641",
          "EPSG:32642",
          "EPSG:32643",
          "EPSG:32644",
          "EPSG:32645",
          "EPSG:32646",
          "EPSG:32647",
          "EPSG:32648",
          "EPSG:32649",
          "EPSG:32650",
          "EPSG:32651",
          "EPSG:32652",
          "EPSG:32653",
          "EPSG:32654",
          "EPSG:32655",
          "EPSG:32656",
          "EPSG:32657",
          "EPSG:32658",
          "EPSG:32659",
          "EPSG:32660",
          "EPSG:32701",
          "EPSG:32702",
          "EPSG:32703",
          "EPSG:32704",
          "EPSG:32705",
          "EPSG:32706",
          "EPSG:32707",
          "EPSG:32708",
          "EPSG:32709",
          "EPSG:32710",
          "EPSG:32711",
          "EPSG:32712",
          "EPSG:32713",
          "EPSG:32714",
          "EPSG:32715",
          "EPSG:32716",
          "EPSG:32717",
          "EPSG:32718",
          "EPSG:32719",
          "EPSG:32720",
          "EPSG:32721",
          "EPSG:32722",
          "EPSG:32723",
          "EPSG:32724",
          "EPSG:32725",
          "EPSG:32726",
          "EPSG:32727",
          "EPSG:32728",
          "EPSG:32729",
          "EPSG:32730",
          "EPSG:32731",
          "EPSG:32732",
          "EPSG:32733",
          "EPSG:32734",
          "EPSG:32735",
          "EPSG:32736",
          "EPSG:32737",
          "EPSG:32738",
          "EPSG:32739",
          "EPSG:32740",
          "EPSG:32741",
          "EPSG:32742",
          "EPSG:32743",
          "EPSG:32744",
          "EPSG:32745",
          "EPSG:32746",
          "EPSG:32747",
          "EPSG:32748",
          "EPSG:32749",
          "EPSG:32750",
          "EPSG:32751",
          "EPSG:32752",
          "EPSG:32753",
          "EPSG:32754",
          "EPSG:32755",
          "EPSG:32756",
          "EPSG:32757",
          "EPSG:32758",
          "EPSG:32759",
          "EPSG:32760"
         ],
         "type": "string"
        },
        "dataset_name": {
         "minLength": 1,
         "type": "string"
        },
        "downsampling": {
         "default": "NEAREST",
         "enum": [
          "NEAREST",
          "BILINEAR",
          "BICUBIC"
         ],
         "type": "string"
        },
        "four_d": {
         "default": false,
         "type": "boolean"
        },
        "max_cache_size": {
         "minimum": 0,
         "type": "integer"
        },
        "mosaicking_order": {
         "default": "mostRecent",
         "enum": [
          "mostRecent",
          "leastRecent",
          "leastCC"
         ],
         "type": "string"
        },
        "spatial_res": {
         "exclusiveMinimum": 0,
         "type": "number"
        },
        "tile_size": {
         "default": [
          1000,
          1000
         ],
         "items": [
          {
           "default": 1000,
           "maximum": 2500,
           "minimum": 1,
           "type": "number"
          },
          {
           "default": 1000,
           "maximum": 2500,
           "minimum": 1,
           "type": "number"
          }
         ],
         "type": "array"
        },
        "time_period": {
         "default": "1D",
         "enum": [
          null,
          "1D",
          "2D",
          "3D",
          "4D",
          "5D",
          "6D",
          "7D",
          "8D",
          "9D",
          "10D",
          "11D",
          "12D",
          "13D",
          "1W",
          "2W"
         ],
         "type": [
          "string",
          "null"
         ]
        },
        "time_range": {
         "items": [
          {
           "format": "date",
           "minDate": "2016-11-01",
           "type": [
            "string",
            "null"
           ]
          },
          {
           "format": "date",
           "minDate": "2016-11-01",
           "type": [
            "string",
            "null"
           ]
          }
         ],
         "type": [
          "array",
          "null"
         ]
        },
        "time_tolerance": {
         "default": "10M",
         "format": "^([1-9]*[0-9]*)[NULSTH]$",
         "type": "string"
        },
        "upsampling": {
         "default": "NEAREST",
         "enum": [
          "NEAREST",
          "BILINEAR",
          "BICUBIC"
         ],
         "type": "string"
        },
        "variable_fill_values": {
         "items": {
          "type": [
           "number",
           "null"
          ]
         },
         "type": "array"
        },
        "variable_names": {
         "items": {
          "type": "string"
         },
         "type": "array"
        },
        "variable_sample_types": {
         "items": {
          "type": "string"
         },
         "type": "array"
        },
        "variable_units": {
         "items": {
          "type": "string"
         },
         "type": "array"
        }
       },
       "required": [
        "bbox",
        "time_range",
        "spatial_res"
       ],
       "type": "object"
      },
      "text/plain": [
       "<xcube.util.jsonschema.JsonObjectSchema at 0x2447a9efee0>"
      ]
     },
     "execution_count": 19,
     "metadata": {},
     "output_type": "execute_result"
    }
   ],
   "source": [
    "sh_store.get_open_data_params_schema('S2L2A')"
   ]
  },
  {
   "cell_type": "code",
   "execution_count": 20,
   "id": "1e148872-0953-49d1-855d-876e2c1a1b8f",
   "metadata": {},
   "outputs": [
    {
     "data": {
      "text/html": [
       "<div>\n",
       "<style scoped>\n",
       "    .dataframe tbody tr th:only-of-type {\n",
       "        vertical-align: middle;\n",
       "    }\n",
       "\n",
       "    .dataframe tbody tr th {\n",
       "        vertical-align: top;\n",
       "    }\n",
       "\n",
       "    .dataframe thead th {\n",
       "        text-align: right;\n",
       "    }\n",
       "</style>\n",
       "<table border=\"1\" class=\"dataframe\">\n",
       "  <thead>\n",
       "    <tr style=\"text-align: right;\">\n",
       "      <th></th>\n",
       "      <th>Longitude</th>\n",
       "      <th>Latitude</th>\n",
       "      <th>class</th>\n",
       "    </tr>\n",
       "  </thead>\n",
       "  <tbody>\n",
       "    <tr>\n",
       "      <th>mc1</th>\n",
       "      <td>30</td>\n",
       "      <td>57</td>\n",
       "      <td>7</td>\n",
       "    </tr>\n",
       "    <tr>\n",
       "      <th>mc2</th>\n",
       "      <td>25</td>\n",
       "      <td>55</td>\n",
       "      <td>3</td>\n",
       "    </tr>\n",
       "    <tr>\n",
       "      <th>mc3</th>\n",
       "      <td>10</td>\n",
       "      <td>37</td>\n",
       "      <td>1</td>\n",
       "    </tr>\n",
       "    <tr>\n",
       "      <th>mc4</th>\n",
       "      <td>20</td>\n",
       "      <td>50</td>\n",
       "      <td>0</td>\n",
       "    </tr>\n",
       "    <tr>\n",
       "      <th>mc5</th>\n",
       "      <td>30</td>\n",
       "      <td>40</td>\n",
       "      <td>0</td>\n",
       "    </tr>\n",
       "  </tbody>\n",
       "</table>\n",
       "</div>"
      ],
      "text/plain": [
       "     Longitude  Latitude  class\n",
       "mc1         30        57      7\n",
       "mc2         25        55      3\n",
       "mc3         10        37      1\n",
       "mc4         20        50      0\n",
       "mc5         30        40      0"
      ]
     },
     "execution_count": 20,
     "metadata": {},
     "output_type": "execute_result"
    }
   ],
   "source": [
    "mc_def = pd.read_csv(\"../3_eventcoord4minicube.csv\", delimiter=\"\\t\")\n",
    "mc_def"
   ]
  },
  {
   "cell_type": "code",
   "execution_count": 21,
   "id": "b7ecb53a-1a9f-477d-8c22-f5b50c2652dc",
   "metadata": {},
   "outputs": [
    {
     "data": {
      "text/plain": [
       "0.00017966305682390427"
      ]
     },
     "execution_count": 21,
     "metadata": {},
     "output_type": "execute_result"
    }
   ],
   "source": [
    "r_earth = 6378137\n",
    "spatial_res_m = 20\n",
    "spatial_res = 360 * spatial_res_m / (2 * math.pi * r_earth)\n",
    "spatial_res"
   ]
  },
  {
   "cell_type": "code",
   "execution_count": 22,
   "id": "94d83661-b8d3-47e2-bbc1-67b486d6bd2a",
   "metadata": {},
   "outputs": [],
   "source": [
    "spatial_res = 0.00018\n",
    "image_size = 256"
   ]
  },
  {
   "cell_type": "code",
   "execution_count": 23,
   "id": "3c59b574-2c57-46c0-b4f7-c1188b2db715",
   "metadata": {},
   "outputs": [],
   "source": [
    "regions = []\n",
    "for row in mc_def.iterrows():\n",
    "    name, (center_lon, center_lat, _) = row\n",
    "    spatial_size = spatial_res * image_size / 2\n",
    "    bbox = (center_lon - spatial_size,\n",
    "            center_lat - spatial_size,\n",
    "            center_lon + spatial_size,\n",
    "            center_lat + spatial_size)\n",
    "    regions.append((name, (center_lon, center_lat), bbox))"
   ]
  },
  {
   "cell_type": "code",
   "execution_count": 24,
   "id": "6304182e-dc4c-4f4f-845e-b203293f4887",
   "metadata": {},
   "outputs": [
    {
     "data": {
      "application/geo+json": {
       "coordinates": [
        [
         [
          [
           30.02304,
           56.97696
          ],
          [
           30.02304,
           57.02304
          ],
          [
           29.97696,
           57.02304
          ],
          [
           29.97696,
           56.97696
          ],
          [
           30.02304,
           56.97696
          ]
         ]
        ],
        [
         [
          [
           25.02304,
           54.97696
          ],
          [
           25.02304,
           55.02304
          ],
          [
           24.97696,
           55.02304
          ],
          [
           24.97696,
           54.97696
          ],
          [
           25.02304,
           54.97696
          ]
         ]
        ],
        [
         [
          [
           10.02304,
           36.97696
          ],
          [
           10.02304,
           37.02304
          ],
          [
           9.97696,
           37.02304
          ],
          [
           9.97696,
           36.97696
          ],
          [
           10.02304,
           36.97696
          ]
         ]
        ],
        [
         [
          [
           20.02304,
           49.97696
          ],
          [
           20.02304,
           50.02304
          ],
          [
           19.97696,
           50.02304
          ],
          [
           19.97696,
           49.97696
          ],
          [
           20.02304,
           49.97696
          ]
         ]
        ],
        [
         [
          [
           30.02304,
           39.97696
          ],
          [
           30.02304,
           40.02304
          ],
          [
           29.97696,
           40.02304
          ],
          [
           29.97696,
           39.97696
          ],
          [
           30.02304,
           39.97696
          ]
         ]
        ]
       ],
       "type": "MultiPolygon"
      },
      "text/plain": [
       "<IPython.display.GeoJSON object>"
      ]
     },
     "metadata": {
      "application/geo+json": {
       "expanded": false,
       "root": "root"
      }
     },
     "output_type": "display_data"
    }
   ],
   "source": [
    "polygon = shapely.geometry.MultiPolygon([shapely.geometry.box(*bbox) \n",
    "                                        for _, _, bbox in regions])\n",
    "IPython.display.GeoJSON(polygon.__geo_interface__)"
   ]
  },
  {
   "cell_type": "code",
   "execution_count": 9,
   "id": "ace101e2-16ec-415d-aa5f-673ff788cddf",
   "metadata": {},
   "outputs": [],
   "source": [
    "s3_store = new_data_store(\"s3\", root=\"deepextremes\", storage_options=dict(anon=False))"
   ]
  },
  {
   "cell_type": "code",
   "execution_count": 16,
   "id": "5ca2ea8f-38d5-401a-9577-b82f46dacb44",
   "metadata": {},
   "outputs": [
    {
     "name": "stderr",
     "output_type": "stream",
     "text": [
      "C:\\Users\\norma\\miniconda3\\envs\\xcube\\lib\\site-packages\\pandas\\core\\tools\\timedeltas.py:148: FutureWarning: Units 'M', 'Y' and 'y' do not represent unambiguous timedelta values and will be removed in a future version.\n",
      "  return _coerce_scalar_to_timedelta_type(arg, unit=unit, errors=errors)\n"
     ]
    },
    {
     "data": {
      "text/plain": [
       "'Writing s2_l2a_mc1_x30_y57.zarr...'"
      ]
     },
     "metadata": {},
     "output_type": "display_data"
    },
    {
     "data": {
      "text/plain": [
       "'Done.'"
      ]
     },
     "metadata": {},
     "output_type": "display_data"
    },
    {
     "name": "stderr",
     "output_type": "stream",
     "text": [
      "C:\\Users\\norma\\miniconda3\\envs\\xcube\\lib\\site-packages\\pandas\\core\\tools\\timedeltas.py:148: FutureWarning: Units 'M', 'Y' and 'y' do not represent unambiguous timedelta values and will be removed in a future version.\n",
      "  return _coerce_scalar_to_timedelta_type(arg, unit=unit, errors=errors)\n"
     ]
    },
    {
     "data": {
      "text/plain": [
       "'Writing s2_l2a_mc2_x25_y55.zarr...'"
      ]
     },
     "metadata": {},
     "output_type": "display_data"
    },
    {
     "data": {
      "text/plain": [
       "'Done.'"
      ]
     },
     "metadata": {},
     "output_type": "display_data"
    },
    {
     "name": "stderr",
     "output_type": "stream",
     "text": [
      "C:\\Users\\norma\\miniconda3\\envs\\xcube\\lib\\site-packages\\pandas\\core\\tools\\timedeltas.py:148: FutureWarning: Units 'M', 'Y' and 'y' do not represent unambiguous timedelta values and will be removed in a future version.\n",
      "  return _coerce_scalar_to_timedelta_type(arg, unit=unit, errors=errors)\n"
     ]
    },
    {
     "data": {
      "text/plain": [
       "'Writing s2_l2a_mc3_x10_y37.zarr...'"
      ]
     },
     "metadata": {},
     "output_type": "display_data"
    },
    {
     "data": {
      "text/plain": [
       "'Done.'"
      ]
     },
     "metadata": {},
     "output_type": "display_data"
    },
    {
     "name": "stderr",
     "output_type": "stream",
     "text": [
      "C:\\Users\\norma\\miniconda3\\envs\\xcube\\lib\\site-packages\\pandas\\core\\tools\\timedeltas.py:148: FutureWarning: Units 'M', 'Y' and 'y' do not represent unambiguous timedelta values and will be removed in a future version.\n",
      "  return _coerce_scalar_to_timedelta_type(arg, unit=unit, errors=errors)\n"
     ]
    },
    {
     "data": {
      "text/plain": [
       "'Writing s2_l2a_mc4_x20_y50.zarr...'"
      ]
     },
     "metadata": {},
     "output_type": "display_data"
    },
    {
     "data": {
      "text/plain": [
       "'Done.'"
      ]
     },
     "metadata": {},
     "output_type": "display_data"
    },
    {
     "name": "stderr",
     "output_type": "stream",
     "text": [
      "C:\\Users\\norma\\miniconda3\\envs\\xcube\\lib\\site-packages\\pandas\\core\\tools\\timedeltas.py:148: FutureWarning: Units 'M', 'Y' and 'y' do not represent unambiguous timedelta values and will be removed in a future version.\n",
      "  return _coerce_scalar_to_timedelta_type(arg, unit=unit, errors=errors)\n"
     ]
    },
    {
     "data": {
      "text/plain": [
       "'Writing s2_l2a_mc5_x30_y40.zarr...'"
      ]
     },
     "metadata": {},
     "output_type": "display_data"
    },
    {
     "data": {
      "text/plain": [
       "'Done.'"
      ]
     },
     "metadata": {},
     "output_type": "display_data"
    }
   ],
   "source": [
    "for name, center, bbox in regions:\n",
    "    mc = sh_store.open_data('S2L2A', \n",
    "                            variable_names=['B02', 'B03', 'B04', 'B06', 'B8A',  'B11', 'SCL'], \n",
    "                            bbox=bbox, \n",
    "                            spatial_res=spatial_res, \n",
    "                            time_range=('2016-01-01','2022-08-01'), \n",
    "                            time_period=None)\n",
    "    out_path = f\"s2_l2a_{name}_x{center[0]}_y{center[1]}.zarr\"\n",
    "    display(f\"Writing {out_path}...\")\n",
    "    mc.to_zarr(f\"s2_l2a_{name}_x{center[0]}_y{center[1]}.zarr\", mode=\"w\")\n",
    "    # s3_store.write_data(mc, f\"s2_l2a_{name}_x{center[0]}_y{center[1]}.zarr\")\n",
    "    display(f\"Done.\")    "
   ]
  },
  {
   "cell_type": "code",
   "execution_count": null,
   "id": "ceab13af-54d5-4278-9bdc-4aa1a61c4696",
   "metadata": {},
   "outputs": [],
   "source": []
  },
  {
   "cell_type": "code",
   "execution_count": null,
   "id": "ba3acbc1-68f1-4b3d-89eb-bf35d2012cf9",
   "metadata": {},
   "outputs": [],
   "source": []
  },
  {
   "cell_type": "code",
   "execution_count": null,
   "id": "6a8d0db0-3bdf-403a-8bf5-8974a9ced8d8",
   "metadata": {},
   "outputs": [],
   "source": []
  }
 ],
 "metadata": {
  "kernelspec": {
   "display_name": "Python 3 (ipykernel)",
   "language": "python",
   "name": "python3"
  },
  "language_info": {
   "codemirror_mode": {
    "name": "ipython",
    "version": 3
   },
   "file_extension": ".py",
   "mimetype": "text/x-python",
   "name": "python",
   "nbconvert_exporter": "python",
   "pygments_lexer": "ipython3",
   "version": "3.9.13"
  }
 },
 "nbformat": 4,
 "nbformat_minor": 5
}
