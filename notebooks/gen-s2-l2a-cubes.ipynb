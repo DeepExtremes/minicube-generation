{
 "cells": [
  {
   "cell_type": "code",
   "execution_count": 1,
   "id": "fe96f2b2-a0b7-492d-a258-8f0824eb76cd",
   "metadata": {},
   "outputs": [],
   "source": [
    "# mandatory imports\n",
    "from xcube.core.store import find_data_store_extensions\n",
    "from xcube.core.store import get_data_store_params_schema\n",
    "from xcube.core.store import new_data_store\n",
    "\n",
    "# Utilities for notebook visualization\n",
    "import shapely.geometry\n",
    "import IPython.display\n",
    "import pandas as pd\n",
    "from IPython.display import JSON\n",
    "import matplotlib.pyplot as plt\n",
    "import math"
   ]
  },
  {
   "cell_type": "code",
   "execution_count": 2,
   "id": "f9af0e41-a8cd-4c60-9d0c-e8eee05d8e3a",
   "metadata": {},
   "outputs": [],
   "source": [
    "store = new_data_store('sentinelhub', num_retries=400)"
   ]
  },
  {
   "cell_type": "code",
   "execution_count": 3,
   "id": "dadebc4f-2ac2-4c38-9958-ca47eb724362",
   "metadata": {},
   "outputs": [
    {
     "data": {
      "application/json": {
       "properties": {
        "bbox": {
         "items": [
          {
           "type": "number"
          },
          {
           "type": "number"
          },
          {
           "type": "number"
          },
          {
           "type": "number"
          }
         ],
         "type": "array"
        },
        "collection_id": {
         "type": "string"
        },
        "crs": {
         "default": "WGS84",
         "enum": [
          "CRS84",
          "WGS84",
          "EPSG:4326",
          "EPSG:3857",
          "EPSG:2154",
          "EPSG:2180",
          "EPSG:2193",
          "EPSG:3003",
          "EPSG:3004",
          "EPSG:3031",
          "EPSG:3035",
          "EPSG:3346",
          "EPSG:3416",
          "EPSG:3765",
          "EPSG:3794",
          "EPSG:3844",
          "EPSG:3912",
          "EPSG:3995",
          "EPSG:4026",
          "EPSG:5514",
          "EPSG:28992",
          "EPSG:32601",
          "EPSG:32602",
          "EPSG:32603",
          "EPSG:32604",
          "EPSG:32605",
          "EPSG:32606",
          "EPSG:32607",
          "EPSG:32608",
          "EPSG:32609",
          "EPSG:32610",
          "EPSG:32611",
          "EPSG:32612",
          "EPSG:32613",
          "EPSG:32614",
          "EPSG:32615",
          "EPSG:32616",
          "EPSG:32617",
          "EPSG:32618",
          "EPSG:32619",
          "EPSG:32620",
          "EPSG:32621",
          "EPSG:32622",
          "EPSG:32623",
          "EPSG:32624",
          "EPSG:32625",
          "EPSG:32626",
          "EPSG:32627",
          "EPSG:32628",
          "EPSG:32629",
          "EPSG:32630",
          "EPSG:32631",
          "EPSG:32632",
          "EPSG:32633",
          "EPSG:32634",
          "EPSG:32635",
          "EPSG:32636",
          "EPSG:32637",
          "EPSG:32638",
          "EPSG:32639",
          "EPSG:32640",
          "EPSG:32641",
          "EPSG:32642",
          "EPSG:32643",
          "EPSG:32644",
          "EPSG:32645",
          "EPSG:32646",
          "EPSG:32647",
          "EPSG:32648",
          "EPSG:32649",
          "EPSG:32650",
          "EPSG:32651",
          "EPSG:32652",
          "EPSG:32653",
          "EPSG:32654",
          "EPSG:32655",
          "EPSG:32656",
          "EPSG:32657",
          "EPSG:32658",
          "EPSG:32659",
          "EPSG:32660",
          "EPSG:32701",
          "EPSG:32702",
          "EPSG:32703",
          "EPSG:32704",
          "EPSG:32705",
          "EPSG:32706",
          "EPSG:32707",
          "EPSG:32708",
          "EPSG:32709",
          "EPSG:32710",
          "EPSG:32711",
          "EPSG:32712",
          "EPSG:32713",
          "EPSG:32714",
          "EPSG:32715",
          "EPSG:32716",
          "EPSG:32717",
          "EPSG:32718",
          "EPSG:32719",
          "EPSG:32720",
          "EPSG:32721",
          "EPSG:32722",
          "EPSG:32723",
          "EPSG:32724",
          "EPSG:32725",
          "EPSG:32726",
          "EPSG:32727",
          "EPSG:32728",
          "EPSG:32729",
          "EPSG:32730",
          "EPSG:32731",
          "EPSG:32732",
          "EPSG:32733",
          "EPSG:32734",
          "EPSG:32735",
          "EPSG:32736",
          "EPSG:32737",
          "EPSG:32738",
          "EPSG:32739",
          "EPSG:32740",
          "EPSG:32741",
          "EPSG:32742",
          "EPSG:32743",
          "EPSG:32744",
          "EPSG:32745",
          "EPSG:32746",
          "EPSG:32747",
          "EPSG:32748",
          "EPSG:32749",
          "EPSG:32750",
          "EPSG:32751",
          "EPSG:32752",
          "EPSG:32753",
          "EPSG:32754",
          "EPSG:32755",
          "EPSG:32756",
          "EPSG:32757",
          "EPSG:32758",
          "EPSG:32759",
          "EPSG:32760"
         ],
         "type": "string"
        },
        "dataset_name": {
         "minLength": 1,
         "type": "string"
        },
        "downsampling": {
         "default": "NEAREST",
         "enum": [
          "NEAREST",
          "BILINEAR",
          "BICUBIC"
         ],
         "type": "string"
        },
        "four_d": {
         "default": false,
         "type": "boolean"
        },
        "max_cache_size": {
         "minimum": 0,
         "type": "integer"
        },
        "mosaicking_order": {
         "default": "mostRecent",
         "enum": [
          "mostRecent",
          "leastRecent",
          "leastCC"
         ],
         "type": "string"
        },
        "spatial_res": {
         "exclusiveMinimum": 0,
         "type": "number"
        },
        "tile_size": {
         "default": [
          1000,
          1000
         ],
         "items": [
          {
           "default": 1000,
           "maximum": 2500,
           "minimum": 1,
           "type": "number"
          },
          {
           "default": 1000,
           "maximum": 2500,
           "minimum": 1,
           "type": "number"
          }
         ],
         "type": "array"
        },
        "time_period": {
         "default": "1D",
         "enum": [
          null,
          "1D",
          "2D",
          "3D",
          "4D",
          "5D",
          "6D",
          "7D",
          "8D",
          "9D",
          "10D",
          "11D",
          "12D",
          "13D",
          "1W",
          "2W"
         ],
         "type": [
          "string",
          "null"
         ]
        },
        "time_range": {
         "items": [
          {
           "format": "date",
           "minDate": "2016-11-01",
           "type": [
            "string",
            "null"
           ]
          },
          {
           "format": "date",
           "minDate": "2016-11-01",
           "type": [
            "string",
            "null"
           ]
          }
         ],
         "type": [
          "array",
          "null"
         ]
        },
        "time_tolerance": {
         "default": "10M",
         "format": "^([1-9]*[0-9]*)[NULSTH]$",
         "type": "string"
        },
        "upsampling": {
         "default": "NEAREST",
         "enum": [
          "NEAREST",
          "BILINEAR",
          "BICUBIC"
         ],
         "type": "string"
        },
        "variable_fill_values": {
         "items": {
          "type": [
           "number",
           "null"
          ]
         },
         "type": "array"
        },
        "variable_names": {
         "items": {
          "type": "string"
         },
         "type": "array"
        },
        "variable_sample_types": {
         "items": {
          "type": "string"
         },
         "type": "array"
        },
        "variable_units": {
         "items": {
          "type": "string"
         },
         "type": "array"
        }
       },
       "required": [
        "time_range",
        "spatial_res",
        "bbox"
       ],
       "type": "object"
      },
      "text/plain": [
       "<xcube.util.jsonschema.JsonObjectSchema at 0x24e0da4ed00>"
      ]
     },
     "execution_count": 3,
     "metadata": {},
     "output_type": "execute_result"
    }
   ],
   "source": [
    "store.get_open_data_params_schema('S2L2A')"
   ]
  },
  {
   "cell_type": "code",
   "execution_count": 4,
   "id": "1e148872-0953-49d1-855d-876e2c1a1b8f",
   "metadata": {},
   "outputs": [
    {
     "data": {
      "text/html": [
       "<div>\n",
       "<style scoped>\n",
       "    .dataframe tbody tr th:only-of-type {\n",
       "        vertical-align: middle;\n",
       "    }\n",
       "\n",
       "    .dataframe tbody tr th {\n",
       "        vertical-align: top;\n",
       "    }\n",
       "\n",
       "    .dataframe thead th {\n",
       "        text-align: right;\n",
       "    }\n",
       "</style>\n",
       "<table border=\"1\" class=\"dataframe\">\n",
       "  <thead>\n",
       "    <tr style=\"text-align: right;\">\n",
       "      <th></th>\n",
       "      <th>Longitude</th>\n",
       "      <th>Latitude</th>\n",
       "      <th>class</th>\n",
       "    </tr>\n",
       "  </thead>\n",
       "  <tbody>\n",
       "    <tr>\n",
       "      <th>mc1</th>\n",
       "      <td>30</td>\n",
       "      <td>57</td>\n",
       "      <td>7</td>\n",
       "    </tr>\n",
       "    <tr>\n",
       "      <th>mc2</th>\n",
       "      <td>25</td>\n",
       "      <td>55</td>\n",
       "      <td>3</td>\n",
       "    </tr>\n",
       "    <tr>\n",
       "      <th>mc3</th>\n",
       "      <td>10</td>\n",
       "      <td>37</td>\n",
       "      <td>1</td>\n",
       "    </tr>\n",
       "    <tr>\n",
       "      <th>mc4</th>\n",
       "      <td>20</td>\n",
       "      <td>50</td>\n",
       "      <td>0</td>\n",
       "    </tr>\n",
       "    <tr>\n",
       "      <th>mc5</th>\n",
       "      <td>30</td>\n",
       "      <td>40</td>\n",
       "      <td>0</td>\n",
       "    </tr>\n",
       "  </tbody>\n",
       "</table>\n",
       "</div>"
      ],
      "text/plain": [
       "     Longitude  Latitude  class\n",
       "mc1         30        57      7\n",
       "mc2         25        55      3\n",
       "mc3         10        37      1\n",
       "mc4         20        50      0\n",
       "mc5         30        40      0"
      ]
     },
     "execution_count": 4,
     "metadata": {},
     "output_type": "execute_result"
    }
   ],
   "source": [
    "mc_def = pd.read_csv(\"../3_eventcoord4minicube.csv\", delimiter=\"\\t\")\n",
    "mc_def"
   ]
  },
  {
   "cell_type": "code",
   "execution_count": 5,
   "id": "b7ecb53a-1a9f-477d-8c22-f5b50c2652dc",
   "metadata": {},
   "outputs": [
    {
     "data": {
      "text/plain": [
       "0.00017966305682390427"
      ]
     },
     "execution_count": 5,
     "metadata": {},
     "output_type": "execute_result"
    }
   ],
   "source": [
    "r_earth = 6378137\n",
    "spatial_res_m = 20\n",
    "spatial_res = 360 * spatial_res_m / (2 * math.pi * r_earth)\n",
    "spatial_res"
   ]
  },
  {
   "cell_type": "code",
   "execution_count": 6,
   "id": "94d83661-b8d3-47e2-bbc1-67b486d6bd2a",
   "metadata": {},
   "outputs": [],
   "source": [
    "spatial_res = 0.00018\n",
    "image_size = 256"
   ]
  },
  {
   "cell_type": "code",
   "execution_count": 7,
   "id": "3c59b574-2c57-46c0-b4f7-c1188b2db715",
   "metadata": {},
   "outputs": [],
   "source": [
    "regions = []\n",
    "for row in mc_def.iterrows():\n",
    "    name, (center_lon, center_lat, _) = row\n",
    "    spatial_size = spatial_res * image_size / 2\n",
    "    bbox = (center_lon - spatial_size,\n",
    "            center_lat - spatial_size,\n",
    "            center_lon + spatial_size,\n",
    "            center_lat + spatial_size)\n",
    "    regions.append((name, (center_lon, center_lat), bbox))"
   ]
  },
  {
   "cell_type": "code",
   "execution_count": 8,
   "id": "6304182e-dc4c-4f4f-845e-b203293f4887",
   "metadata": {},
   "outputs": [
    {
     "data": {
      "application/geo+json": {
       "coordinates": [
        [
         [
          [
           30.02304,
           56.97696
          ],
          [
           30.02304,
           57.02304
          ],
          [
           29.97696,
           57.02304
          ],
          [
           29.97696,
           56.97696
          ],
          [
           30.02304,
           56.97696
          ]
         ]
        ],
        [
         [
          [
           25.02304,
           54.97696
          ],
          [
           25.02304,
           55.02304
          ],
          [
           24.97696,
           55.02304
          ],
          [
           24.97696,
           54.97696
          ],
          [
           25.02304,
           54.97696
          ]
         ]
        ],
        [
         [
          [
           10.02304,
           36.97696
          ],
          [
           10.02304,
           37.02304
          ],
          [
           9.97696,
           37.02304
          ],
          [
           9.97696,
           36.97696
          ],
          [
           10.02304,
           36.97696
          ]
         ]
        ],
        [
         [
          [
           20.02304,
           49.97696
          ],
          [
           20.02304,
           50.02304
          ],
          [
           19.97696,
           50.02304
          ],
          [
           19.97696,
           49.97696
          ],
          [
           20.02304,
           49.97696
          ]
         ]
        ],
        [
         [
          [
           30.02304,
           39.97696
          ],
          [
           30.02304,
           40.02304
          ],
          [
           29.97696,
           40.02304
          ],
          [
           29.97696,
           39.97696
          ],
          [
           30.02304,
           39.97696
          ]
         ]
        ]
       ],
       "type": "MultiPolygon"
      },
      "text/plain": [
       "<IPython.display.GeoJSON object>"
      ]
     },
     "metadata": {
      "application/geo+json": {
       "expanded": false,
       "root": "root"
      }
     },
     "output_type": "display_data"
    }
   ],
   "source": [
    "polygon = shapely.geometry.MultiPolygon([shapely.geometry.box(*bbox) \n",
    "                                        for _, _, bbox in regions])\n",
    "IPython.display.GeoJSON(polygon.__geo_interface__)"
   ]
  },
  {
   "cell_type": "code",
   "execution_count": null,
   "id": "ace101e2-16ec-415d-aa5f-673ff788cddf",
   "metadata": {},
   "outputs": [],
   "source": []
  },
  {
   "cell_type": "code",
   "execution_count": 9,
   "id": "5ca2ea8f-38d5-401a-9577-b82f46dacb44",
   "metadata": {},
   "outputs": [
    {
     "name": "stderr",
     "output_type": "stream",
     "text": [
      "D:\\Miniconda3\\envs\\xcube\\lib\\site-packages\\pandas\\core\\tools\\timedeltas.py:148: FutureWarning: Units 'M', 'Y' and 'y' do not represent unambiguous timedelta values and will be removed in a future version.\n",
      "  return _coerce_scalar_to_timedelta_type(arg, unit=unit, errors=errors)\n",
      "D:\\Miniconda3\\envs\\xcube\\lib\\site-packages\\pandas\\core\\tools\\timedeltas.py:148: FutureWarning: Units 'M', 'Y' and 'y' do not represent unambiguous timedelta values and will be removed in a future version.\n",
      "  return _coerce_scalar_to_timedelta_type(arg, unit=unit, errors=errors)\n",
      "D:\\Miniconda3\\envs\\xcube\\lib\\site-packages\\pandas\\core\\tools\\timedeltas.py:148: FutureWarning: Units 'M', 'Y' and 'y' do not represent unambiguous timedelta values and will be removed in a future version.\n",
      "  return _coerce_scalar_to_timedelta_type(arg, unit=unit, errors=errors)\n"
     ]
    },
    {
     "ename": "KeyboardInterrupt",
     "evalue": "",
     "output_type": "error",
     "traceback": [
      "\u001b[1;31m---------------------------------------------------------------------------\u001b[0m",
      "\u001b[1;31mKeyboardInterrupt\u001b[0m                         Traceback (most recent call last)",
      "Cell \u001b[1;32mIn [9], line 8\u001b[0m\n\u001b[0;32m      1\u001b[0m \u001b[38;5;28;01mfor\u001b[39;00m name, center, bbox \u001b[38;5;129;01min\u001b[39;00m regions:\n\u001b[0;32m      2\u001b[0m     mc \u001b[38;5;241m=\u001b[39m store\u001b[38;5;241m.\u001b[39mopen_data(\u001b[38;5;124m'\u001b[39m\u001b[38;5;124mS2L2A\u001b[39m\u001b[38;5;124m'\u001b[39m, \n\u001b[0;32m      3\u001b[0m                          variable_names\u001b[38;5;241m=\u001b[39m[\u001b[38;5;124m'\u001b[39m\u001b[38;5;124mB04\u001b[39m\u001b[38;5;124m'\u001b[39m], \n\u001b[0;32m      4\u001b[0m                          bbox\u001b[38;5;241m=\u001b[39mbbox, \n\u001b[0;32m      5\u001b[0m                          spatial_res\u001b[38;5;241m=\u001b[39mspatial_res, \n\u001b[0;32m      6\u001b[0m                          time_range\u001b[38;5;241m=\u001b[39m(\u001b[38;5;124m'\u001b[39m\u001b[38;5;124m2016-01-01\u001b[39m\u001b[38;5;124m'\u001b[39m,\u001b[38;5;124m'\u001b[39m\u001b[38;5;124m2022-08-01\u001b[39m\u001b[38;5;124m'\u001b[39m), \n\u001b[0;32m      7\u001b[0m                          time_period\u001b[38;5;241m=\u001b[39m\u001b[38;5;28;01mNone\u001b[39;00m)\n\u001b[1;32m----> 8\u001b[0m     \u001b[43mmc\u001b[49m\u001b[38;5;241;43m.\u001b[39;49m\u001b[43mto_zarr\u001b[49m\u001b[43m(\u001b[49m\u001b[38;5;124;43mf\u001b[39;49m\u001b[38;5;124;43m\"\u001b[39;49m\u001b[38;5;124;43ms2_l2a_\u001b[39;49m\u001b[38;5;132;43;01m{\u001b[39;49;00m\u001b[43mname\u001b[49m\u001b[38;5;132;43;01m}\u001b[39;49;00m\u001b[38;5;124;43m_x\u001b[39;49m\u001b[38;5;132;43;01m{\u001b[39;49;00m\u001b[43mcenter\u001b[49m\u001b[43m[\u001b[49m\u001b[38;5;241;43m0\u001b[39;49m\u001b[43m]\u001b[49m\u001b[38;5;132;43;01m}\u001b[39;49;00m\u001b[38;5;124;43m_y\u001b[39;49m\u001b[38;5;132;43;01m{\u001b[39;49;00m\u001b[43mcenter\u001b[49m\u001b[43m[\u001b[49m\u001b[38;5;241;43m1\u001b[39;49m\u001b[43m]\u001b[49m\u001b[38;5;132;43;01m}\u001b[39;49;00m\u001b[38;5;124;43m.zarr\u001b[39;49m\u001b[38;5;124;43m\"\u001b[39;49m\u001b[43m)\u001b[49m\n",
      "File \u001b[1;32mD:\\Miniconda3\\envs\\xcube\\lib\\site-packages\\xarray\\core\\dataset.py:2060\u001b[0m, in \u001b[0;36mDataset.to_zarr\u001b[1;34m(self, store, chunk_store, mode, synchronizer, group, encoding, compute, consolidated, append_dim, region, safe_chunks, storage_options)\u001b[0m\n\u001b[0;32m   1950\u001b[0m \u001b[38;5;124;03m\"\"\"Write dataset contents to a zarr group.\u001b[39;00m\n\u001b[0;32m   1951\u001b[0m \n\u001b[0;32m   1952\u001b[0m \u001b[38;5;124;03mZarr chunks are determined in the following way:\u001b[39;00m\n\u001b[1;32m   (...)\u001b[0m\n\u001b[0;32m   2056\u001b[0m \u001b[38;5;124;03m    The I/O user guide, with more details and examples.\u001b[39;00m\n\u001b[0;32m   2057\u001b[0m \u001b[38;5;124;03m\"\"\"\u001b[39;00m\n\u001b[0;32m   2058\u001b[0m \u001b[38;5;28;01mfrom\u001b[39;00m \u001b[38;5;21;01m.\u001b[39;00m\u001b[38;5;21;01m.\u001b[39;00m\u001b[38;5;21;01mbackends\u001b[39;00m\u001b[38;5;21;01m.\u001b[39;00m\u001b[38;5;21;01mapi\u001b[39;00m \u001b[38;5;28;01mimport\u001b[39;00m to_zarr\n\u001b[1;32m-> 2060\u001b[0m \u001b[38;5;28;01mreturn\u001b[39;00m \u001b[43mto_zarr\u001b[49m\u001b[43m(\u001b[49m\u001b[43m  \u001b[49m\u001b[38;5;66;43;03m# type: ignore\u001b[39;49;00m\n\u001b[0;32m   2061\u001b[0m \u001b[43m    \u001b[49m\u001b[38;5;28;43mself\u001b[39;49m\u001b[43m,\u001b[49m\n\u001b[0;32m   2062\u001b[0m \u001b[43m    \u001b[49m\u001b[43mstore\u001b[49m\u001b[38;5;241;43m=\u001b[39;49m\u001b[43mstore\u001b[49m\u001b[43m,\u001b[49m\n\u001b[0;32m   2063\u001b[0m \u001b[43m    \u001b[49m\u001b[43mchunk_store\u001b[49m\u001b[38;5;241;43m=\u001b[39;49m\u001b[43mchunk_store\u001b[49m\u001b[43m,\u001b[49m\n\u001b[0;32m   2064\u001b[0m \u001b[43m    \u001b[49m\u001b[43mstorage_options\u001b[49m\u001b[38;5;241;43m=\u001b[39;49m\u001b[43mstorage_options\u001b[49m\u001b[43m,\u001b[49m\n\u001b[0;32m   2065\u001b[0m \u001b[43m    \u001b[49m\u001b[43mmode\u001b[49m\u001b[38;5;241;43m=\u001b[39;49m\u001b[43mmode\u001b[49m\u001b[43m,\u001b[49m\n\u001b[0;32m   2066\u001b[0m \u001b[43m    \u001b[49m\u001b[43msynchronizer\u001b[49m\u001b[38;5;241;43m=\u001b[39;49m\u001b[43msynchronizer\u001b[49m\u001b[43m,\u001b[49m\n\u001b[0;32m   2067\u001b[0m \u001b[43m    \u001b[49m\u001b[43mgroup\u001b[49m\u001b[38;5;241;43m=\u001b[39;49m\u001b[43mgroup\u001b[49m\u001b[43m,\u001b[49m\n\u001b[0;32m   2068\u001b[0m \u001b[43m    \u001b[49m\u001b[43mencoding\u001b[49m\u001b[38;5;241;43m=\u001b[39;49m\u001b[43mencoding\u001b[49m\u001b[43m,\u001b[49m\n\u001b[0;32m   2069\u001b[0m \u001b[43m    \u001b[49m\u001b[43mcompute\u001b[49m\u001b[38;5;241;43m=\u001b[39;49m\u001b[43mcompute\u001b[49m\u001b[43m,\u001b[49m\n\u001b[0;32m   2070\u001b[0m \u001b[43m    \u001b[49m\u001b[43mconsolidated\u001b[49m\u001b[38;5;241;43m=\u001b[39;49m\u001b[43mconsolidated\u001b[49m\u001b[43m,\u001b[49m\n\u001b[0;32m   2071\u001b[0m \u001b[43m    \u001b[49m\u001b[43mappend_dim\u001b[49m\u001b[38;5;241;43m=\u001b[39;49m\u001b[43mappend_dim\u001b[49m\u001b[43m,\u001b[49m\n\u001b[0;32m   2072\u001b[0m \u001b[43m    \u001b[49m\u001b[43mregion\u001b[49m\u001b[38;5;241;43m=\u001b[39;49m\u001b[43mregion\u001b[49m\u001b[43m,\u001b[49m\n\u001b[0;32m   2073\u001b[0m \u001b[43m    \u001b[49m\u001b[43msafe_chunks\u001b[49m\u001b[38;5;241;43m=\u001b[39;49m\u001b[43msafe_chunks\u001b[49m\u001b[43m,\u001b[49m\n\u001b[0;32m   2074\u001b[0m \u001b[43m\u001b[49m\u001b[43m)\u001b[49m\n",
      "File \u001b[1;32mD:\\Miniconda3\\envs\\xcube\\lib\\site-packages\\xarray\\backends\\api.py:1638\u001b[0m, in \u001b[0;36mto_zarr\u001b[1;34m(dataset, store, chunk_store, mode, synchronizer, group, encoding, compute, consolidated, append_dim, region, safe_chunks, storage_options)\u001b[0m\n\u001b[0;32m   1636\u001b[0m \u001b[38;5;66;03m# TODO: figure out how to properly handle unlimited_dims\u001b[39;00m\n\u001b[0;32m   1637\u001b[0m dump_to_store(dataset, zstore, writer, encoding\u001b[38;5;241m=\u001b[39mencoding)\n\u001b[1;32m-> 1638\u001b[0m writes \u001b[38;5;241m=\u001b[39m \u001b[43mwriter\u001b[49m\u001b[38;5;241;43m.\u001b[39;49m\u001b[43msync\u001b[49m\u001b[43m(\u001b[49m\u001b[43mcompute\u001b[49m\u001b[38;5;241;43m=\u001b[39;49m\u001b[43mcompute\u001b[49m\u001b[43m)\u001b[49m\n\u001b[0;32m   1640\u001b[0m \u001b[38;5;28;01mif\u001b[39;00m compute:\n\u001b[0;32m   1641\u001b[0m     _finalize_store(writes, zstore)\n",
      "File \u001b[1;32mD:\\Miniconda3\\envs\\xcube\\lib\\site-packages\\xarray\\backends\\common.py:168\u001b[0m, in \u001b[0;36mArrayWriter.sync\u001b[1;34m(self, compute)\u001b[0m\n\u001b[0;32m    162\u001b[0m \u001b[38;5;28;01mimport\u001b[39;00m \u001b[38;5;21;01mdask\u001b[39;00m\u001b[38;5;21;01m.\u001b[39;00m\u001b[38;5;21;01marray\u001b[39;00m \u001b[38;5;28;01mas\u001b[39;00m \u001b[38;5;21;01mda\u001b[39;00m\n\u001b[0;32m    164\u001b[0m \u001b[38;5;66;03m# TODO: consider wrapping targets with dask.delayed, if this makes\u001b[39;00m\n\u001b[0;32m    165\u001b[0m \u001b[38;5;66;03m# for any discernible difference in perforance, e.g.,\u001b[39;00m\n\u001b[0;32m    166\u001b[0m \u001b[38;5;66;03m# targets = [dask.delayed(t) for t in self.targets]\u001b[39;00m\n\u001b[1;32m--> 168\u001b[0m delayed_store \u001b[38;5;241m=\u001b[39m \u001b[43mda\u001b[49m\u001b[38;5;241;43m.\u001b[39;49m\u001b[43mstore\u001b[49m\u001b[43m(\u001b[49m\n\u001b[0;32m    169\u001b[0m \u001b[43m    \u001b[49m\u001b[38;5;28;43mself\u001b[39;49m\u001b[38;5;241;43m.\u001b[39;49m\u001b[43msources\u001b[49m\u001b[43m,\u001b[49m\n\u001b[0;32m    170\u001b[0m \u001b[43m    \u001b[49m\u001b[38;5;28;43mself\u001b[39;49m\u001b[38;5;241;43m.\u001b[39;49m\u001b[43mtargets\u001b[49m\u001b[43m,\u001b[49m\n\u001b[0;32m    171\u001b[0m \u001b[43m    \u001b[49m\u001b[43mlock\u001b[49m\u001b[38;5;241;43m=\u001b[39;49m\u001b[38;5;28;43mself\u001b[39;49m\u001b[38;5;241;43m.\u001b[39;49m\u001b[43mlock\u001b[49m\u001b[43m,\u001b[49m\n\u001b[0;32m    172\u001b[0m \u001b[43m    \u001b[49m\u001b[43mcompute\u001b[49m\u001b[38;5;241;43m=\u001b[39;49m\u001b[43mcompute\u001b[49m\u001b[43m,\u001b[49m\n\u001b[0;32m    173\u001b[0m \u001b[43m    \u001b[49m\u001b[43mflush\u001b[49m\u001b[38;5;241;43m=\u001b[39;49m\u001b[38;5;28;43;01mTrue\u001b[39;49;00m\u001b[43m,\u001b[49m\n\u001b[0;32m    174\u001b[0m \u001b[43m    \u001b[49m\u001b[43mregions\u001b[49m\u001b[38;5;241;43m=\u001b[39;49m\u001b[38;5;28;43mself\u001b[39;49m\u001b[38;5;241;43m.\u001b[39;49m\u001b[43mregions\u001b[49m\u001b[43m,\u001b[49m\n\u001b[0;32m    175\u001b[0m \u001b[43m\u001b[49m\u001b[43m)\u001b[49m\n\u001b[0;32m    176\u001b[0m \u001b[38;5;28mself\u001b[39m\u001b[38;5;241m.\u001b[39msources \u001b[38;5;241m=\u001b[39m []\n\u001b[0;32m    177\u001b[0m \u001b[38;5;28mself\u001b[39m\u001b[38;5;241m.\u001b[39mtargets \u001b[38;5;241m=\u001b[39m []\n",
      "File \u001b[1;32mD:\\Miniconda3\\envs\\xcube\\lib\\site-packages\\dask\\array\\core.py:1232\u001b[0m, in \u001b[0;36mstore\u001b[1;34m(***failed resolving arguments***)\u001b[0m\n\u001b[0;32m   1230\u001b[0m \u001b[38;5;28;01melif\u001b[39;00m compute:\n\u001b[0;32m   1231\u001b[0m     store_dsk \u001b[38;5;241m=\u001b[39m HighLevelGraph(layers, dependencies)\n\u001b[1;32m-> 1232\u001b[0m     compute_as_if_collection(Array, store_dsk, map_keys, \u001b[38;5;241m*\u001b[39m\u001b[38;5;241m*\u001b[39mkwargs)\n\u001b[0;32m   1233\u001b[0m     \u001b[38;5;28;01mreturn\u001b[39;00m \u001b[38;5;28;01mNone\u001b[39;00m\n\u001b[0;32m   1235\u001b[0m \u001b[38;5;28;01melse\u001b[39;00m:\n",
      "File \u001b[1;32mD:\\Miniconda3\\envs\\xcube\\lib\\site-packages\\dask\\base.py:342\u001b[0m, in \u001b[0;36mcompute_as_if_collection\u001b[1;34m(cls, dsk, keys, scheduler, get, **kwargs)\u001b[0m\n\u001b[0;32m    340\u001b[0m schedule \u001b[38;5;241m=\u001b[39m get_scheduler(scheduler\u001b[38;5;241m=\u001b[39mscheduler, \u001b[38;5;28mcls\u001b[39m\u001b[38;5;241m=\u001b[39m\u001b[38;5;28mcls\u001b[39m, get\u001b[38;5;241m=\u001b[39mget)\n\u001b[0;32m    341\u001b[0m dsk2 \u001b[38;5;241m=\u001b[39m optimization_function(\u001b[38;5;28mcls\u001b[39m)(dsk, keys, \u001b[38;5;241m*\u001b[39m\u001b[38;5;241m*\u001b[39mkwargs)\n\u001b[1;32m--> 342\u001b[0m \u001b[38;5;28;01mreturn\u001b[39;00m schedule(dsk2, keys, \u001b[38;5;241m*\u001b[39m\u001b[38;5;241m*\u001b[39mkwargs)\n",
      "File \u001b[1;32mD:\\Miniconda3\\envs\\xcube\\lib\\site-packages\\dask\\threaded.py:89\u001b[0m, in \u001b[0;36mget\u001b[1;34m(dsk, keys, cache, num_workers, pool, **kwargs)\u001b[0m\n\u001b[0;32m     86\u001b[0m     \u001b[38;5;28;01melif\u001b[39;00m \u001b[38;5;28misinstance\u001b[39m(pool, multiprocessing\u001b[38;5;241m.\u001b[39mpool\u001b[38;5;241m.\u001b[39mPool):\n\u001b[0;32m     87\u001b[0m         pool \u001b[38;5;241m=\u001b[39m MultiprocessingPoolExecutor(pool)\n\u001b[1;32m---> 89\u001b[0m results \u001b[38;5;241m=\u001b[39m get_async(\n\u001b[0;32m     90\u001b[0m     pool\u001b[38;5;241m.\u001b[39msubmit,\n\u001b[0;32m     91\u001b[0m     pool\u001b[38;5;241m.\u001b[39m_max_workers,\n\u001b[0;32m     92\u001b[0m     dsk,\n\u001b[0;32m     93\u001b[0m     keys,\n\u001b[0;32m     94\u001b[0m     cache\u001b[38;5;241m=\u001b[39mcache,\n\u001b[0;32m     95\u001b[0m     get_id\u001b[38;5;241m=\u001b[39m_thread_get_id,\n\u001b[0;32m     96\u001b[0m     pack_exception\u001b[38;5;241m=\u001b[39mpack_exception,\n\u001b[0;32m     97\u001b[0m     \u001b[38;5;241m*\u001b[39m\u001b[38;5;241m*\u001b[39mkwargs,\n\u001b[0;32m     98\u001b[0m )\n\u001b[0;32m    100\u001b[0m \u001b[38;5;66;03m# Cleanup pools associated to dead threads\u001b[39;00m\n\u001b[0;32m    101\u001b[0m \u001b[38;5;28;01mwith\u001b[39;00m pools_lock:\n",
      "File \u001b[1;32mD:\\Miniconda3\\envs\\xcube\\lib\\site-packages\\dask\\local.py:500\u001b[0m, in \u001b[0;36mget_async\u001b[1;34m(submit, num_workers, dsk, result, cache, get_id, rerun_exceptions_locally, pack_exception, raise_exception, callbacks, dumps, loads, chunksize, **kwargs)\u001b[0m\n\u001b[0;32m    498\u001b[0m \u001b[38;5;28;01mwhile\u001b[39;00m state[\u001b[38;5;124m\"\u001b[39m\u001b[38;5;124mwaiting\u001b[39m\u001b[38;5;124m\"\u001b[39m] \u001b[38;5;129;01mor\u001b[39;00m state[\u001b[38;5;124m\"\u001b[39m\u001b[38;5;124mready\u001b[39m\u001b[38;5;124m\"\u001b[39m] \u001b[38;5;129;01mor\u001b[39;00m state[\u001b[38;5;124m\"\u001b[39m\u001b[38;5;124mrunning\u001b[39m\u001b[38;5;124m\"\u001b[39m]:\n\u001b[0;32m    499\u001b[0m     fire_tasks(chunksize)\n\u001b[1;32m--> 500\u001b[0m     \u001b[38;5;28;01mfor\u001b[39;00m key, res_info, failed \u001b[38;5;129;01min\u001b[39;00m \u001b[43mqueue_get\u001b[49m\u001b[43m(\u001b[49m\u001b[43mqueue\u001b[49m\u001b[43m)\u001b[49m\u001b[38;5;241m.\u001b[39mresult():\n\u001b[0;32m    501\u001b[0m         \u001b[38;5;28;01mif\u001b[39;00m failed:\n\u001b[0;32m    502\u001b[0m             exc, tb \u001b[38;5;241m=\u001b[39m loads(res_info)\n",
      "File \u001b[1;32mD:\\Miniconda3\\envs\\xcube\\lib\\site-packages\\dask\\local.py:130\u001b[0m, in \u001b[0;36mqueue_get\u001b[1;34m(q)\u001b[0m\n\u001b[0;32m    128\u001b[0m \u001b[38;5;28;01mwhile\u001b[39;00m \u001b[38;5;28;01mTrue\u001b[39;00m:\n\u001b[0;32m    129\u001b[0m     \u001b[38;5;28;01mtry\u001b[39;00m:\n\u001b[1;32m--> 130\u001b[0m         \u001b[38;5;28;01mreturn\u001b[39;00m \u001b[43mq\u001b[49m\u001b[38;5;241;43m.\u001b[39;49m\u001b[43mget\u001b[49m\u001b[43m(\u001b[49m\u001b[43mblock\u001b[49m\u001b[38;5;241;43m=\u001b[39;49m\u001b[38;5;28;43;01mTrue\u001b[39;49;00m\u001b[43m,\u001b[49m\u001b[43m \u001b[49m\u001b[43mtimeout\u001b[49m\u001b[38;5;241;43m=\u001b[39;49m\u001b[38;5;241;43m0.1\u001b[39;49m\u001b[43m)\u001b[49m\n\u001b[0;32m    131\u001b[0m     \u001b[38;5;28;01mexcept\u001b[39;00m Empty:\n\u001b[0;32m    132\u001b[0m         \u001b[38;5;28;01mpass\u001b[39;00m\n",
      "File \u001b[1;32mD:\\Miniconda3\\envs\\xcube\\lib\\queue.py:180\u001b[0m, in \u001b[0;36mQueue.get\u001b[1;34m(self, block, timeout)\u001b[0m\n\u001b[0;32m    178\u001b[0m         \u001b[38;5;28;01mif\u001b[39;00m remaining \u001b[38;5;241m<\u001b[39m\u001b[38;5;241m=\u001b[39m \u001b[38;5;241m0.0\u001b[39m:\n\u001b[0;32m    179\u001b[0m             \u001b[38;5;28;01mraise\u001b[39;00m Empty\n\u001b[1;32m--> 180\u001b[0m         \u001b[38;5;28;43mself\u001b[39;49m\u001b[38;5;241;43m.\u001b[39;49m\u001b[43mnot_empty\u001b[49m\u001b[38;5;241;43m.\u001b[39;49m\u001b[43mwait\u001b[49m\u001b[43m(\u001b[49m\u001b[43mremaining\u001b[49m\u001b[43m)\u001b[49m\n\u001b[0;32m    181\u001b[0m item \u001b[38;5;241m=\u001b[39m \u001b[38;5;28mself\u001b[39m\u001b[38;5;241m.\u001b[39m_get()\n\u001b[0;32m    182\u001b[0m \u001b[38;5;28mself\u001b[39m\u001b[38;5;241m.\u001b[39mnot_full\u001b[38;5;241m.\u001b[39mnotify()\n",
      "File \u001b[1;32mD:\\Miniconda3\\envs\\xcube\\lib\\threading.py:316\u001b[0m, in \u001b[0;36mCondition.wait\u001b[1;34m(self, timeout)\u001b[0m\n\u001b[0;32m    314\u001b[0m \u001b[38;5;28;01melse\u001b[39;00m:\n\u001b[0;32m    315\u001b[0m     \u001b[38;5;28;01mif\u001b[39;00m timeout \u001b[38;5;241m>\u001b[39m \u001b[38;5;241m0\u001b[39m:\n\u001b[1;32m--> 316\u001b[0m         gotit \u001b[38;5;241m=\u001b[39m \u001b[43mwaiter\u001b[49m\u001b[38;5;241;43m.\u001b[39;49m\u001b[43macquire\u001b[49m\u001b[43m(\u001b[49m\u001b[38;5;28;43;01mTrue\u001b[39;49;00m\u001b[43m,\u001b[49m\u001b[43m \u001b[49m\u001b[43mtimeout\u001b[49m\u001b[43m)\u001b[49m\n\u001b[0;32m    317\u001b[0m     \u001b[38;5;28;01melse\u001b[39;00m:\n\u001b[0;32m    318\u001b[0m         gotit \u001b[38;5;241m=\u001b[39m waiter\u001b[38;5;241m.\u001b[39macquire(\u001b[38;5;28;01mFalse\u001b[39;00m)\n",
      "\u001b[1;31mKeyboardInterrupt\u001b[0m: "
     ]
    }
   ],
   "source": [
    "for name, center, bbox in regions:\n",
    "    mc = store.open_data('S2L2A', \n",
    "                         variable_names=['B02', 'B03', 'B04', 'B06', 'B8A',  'B11', 'SCL'], \n",
    "                         bbox=bbox, \n",
    "                         spatial_res=spatial_res, \n",
    "                         time_range=('2016-01-01','2022-08-01'), \n",
    "                         time_period=None)\n",
    "    mc.to_zarr(f\"s2_l2a_{name}_x{center[0]}_y{center[1]}.zarr\")"
   ]
  },
  {
   "cell_type": "code",
   "execution_count": null,
   "id": "ceab13af-54d5-4278-9bdc-4aa1a61c4696",
   "metadata": {},
   "outputs": [],
   "source": []
  },
  {
   "cell_type": "code",
   "execution_count": null,
   "id": "ba3acbc1-68f1-4b3d-89eb-bf35d2012cf9",
   "metadata": {},
   "outputs": [],
   "source": []
  },
  {
   "cell_type": "code",
   "execution_count": null,
   "id": "6a8d0db0-3bdf-403a-8bf5-8974a9ced8d8",
   "metadata": {},
   "outputs": [],
   "source": []
  }
 ],
 "metadata": {
  "kernelspec": {
   "display_name": "Python 3 (ipykernel)",
   "language": "python",
   "name": "python3"
  },
  "language_info": {
   "codemirror_mode": {
    "name": "ipython",
    "version": 3
   },
   "file_extension": ".py",
   "mimetype": "text/x-python",
   "name": "python",
   "nbconvert_exporter": "python",
   "pygments_lexer": "ipython3",
   "version": "3.9.13"
  }
 },
 "nbformat": 4,
 "nbformat_minor": 5
}
