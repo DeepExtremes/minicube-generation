{
 "cells": [
  {
   "cell_type": "code",
   "execution_count": 1,
   "id": "d23c1399",
   "metadata": {},
   "outputs": [],
   "source": [
    "# mandatory imports\n",
    "from xcube.core.store import find_data_store_extensions\n",
    "from xcube.core.store import get_data_store_params_schema\n",
    "from xcube.core.store import new_data_store\n",
    "from xcube.core.select import select_label_subset\n",
    "\n",
    "# Utilities for notebook visualization\n",
    "import shapely.geometry\n",
    "import IPython.display\n",
    "import pandas as pd\n",
    "from IPython.display import JSON\n",
    "import matplotlib.pyplot as plt\n",
    "import math"
   ]
  },
  {
   "cell_type": "code",
   "execution_count": 2,
   "id": "a77d264d",
   "metadata": {},
   "outputs": [
    {
     "ename": "DataStoreError",
     "evalue": "Unknown data store \"sentinelhub\" (may be due to missing xcube plugin)",
     "output_type": "error",
     "traceback": [
      "\u001b[1;31m---------------------------------------------------------------------------\u001b[0m",
      "\u001b[1;31mDataStoreError\u001b[0m                            Traceback (most recent call last)",
      "Input \u001b[1;32mIn [2]\u001b[0m, in \u001b[0;36m<cell line: 1>\u001b[1;34m()\u001b[0m\n\u001b[1;32m----> 1\u001b[0m sh_store \u001b[38;5;241m=\u001b[39m \u001b[43mnew_data_store\u001b[49m\u001b[43m(\u001b[49m\u001b[38;5;124;43m'\u001b[39;49m\u001b[38;5;124;43msentinelhub\u001b[39;49m\u001b[38;5;124;43m'\u001b[39;49m\u001b[43m,\u001b[49m\u001b[43m \u001b[49m\u001b[43mnum_retries\u001b[49m\u001b[38;5;241;43m=\u001b[39;49m\u001b[38;5;241;43m400\u001b[39;49m\u001b[43m)\u001b[49m\n",
      "File \u001b[1;32mc:\\users\\tonio\\projekte\\dcs4cop\\xcube\\xcube\\core\\store\\store.py:60\u001b[0m, in \u001b[0;36mnew_data_store\u001b[1;34m(data_store_id, extension_registry, **data_store_params)\u001b[0m\n\u001b[0;32m     46\u001b[0m \u001b[38;5;28;01mdef\u001b[39;00m \u001b[38;5;21mnew_data_store\u001b[39m(data_store_id: \u001b[38;5;28mstr\u001b[39m,\n\u001b[0;32m     47\u001b[0m                    extension_registry: Optional[ExtensionRegistry] \u001b[38;5;241m=\u001b[39m \u001b[38;5;28;01mNone\u001b[39;00m,\n\u001b[0;32m     48\u001b[0m                    \u001b[38;5;241m*\u001b[39m\u001b[38;5;241m*\u001b[39mdata_store_params) \\\n\u001b[0;32m     49\u001b[0m         \u001b[38;5;241m-\u001b[39m\u001b[38;5;241m>\u001b[39m Union[\u001b[38;5;124m'\u001b[39m\u001b[38;5;124mDataStore\u001b[39m\u001b[38;5;124m'\u001b[39m, \u001b[38;5;124m'\u001b[39m\u001b[38;5;124mMutableDataStore\u001b[39m\u001b[38;5;124m'\u001b[39m]:\n\u001b[0;32m     50\u001b[0m     \u001b[38;5;124;03m\"\"\"\u001b[39;00m\n\u001b[0;32m     51\u001b[0m \u001b[38;5;124;03m    Create a new data store instance for given\u001b[39;00m\n\u001b[0;32m     52\u001b[0m \u001b[38;5;124;03m    *data_store_id* and *data_store_params*.\u001b[39;00m\n\u001b[1;32m   (...)\u001b[0m\n\u001b[0;32m     58\u001b[0m \u001b[38;5;124;03m    :return: A new data store instance\u001b[39;00m\n\u001b[0;32m     59\u001b[0m \u001b[38;5;124;03m    \"\"\"\u001b[39;00m\n\u001b[1;32m---> 60\u001b[0m     data_store_class \u001b[38;5;241m=\u001b[39m \u001b[43mget_data_store_class\u001b[49m\u001b[43m(\u001b[49m\n\u001b[0;32m     61\u001b[0m \u001b[43m        \u001b[49m\u001b[43mdata_store_id\u001b[49m\u001b[43m,\u001b[49m\n\u001b[0;32m     62\u001b[0m \u001b[43m        \u001b[49m\u001b[43mextension_registry\u001b[49m\u001b[38;5;241;43m=\u001b[39;49m\u001b[43mextension_registry\u001b[49m\n\u001b[0;32m     63\u001b[0m \u001b[43m    \u001b[49m\u001b[43m)\u001b[49m\n\u001b[0;32m     64\u001b[0m     data_store_params_schema \u001b[38;5;241m=\u001b[39m data_store_class\u001b[38;5;241m.\u001b[39mget_data_store_params_schema()\n\u001b[0;32m     65\u001b[0m     assert_valid_params(data_store_params,\n\u001b[0;32m     66\u001b[0m                         name\u001b[38;5;241m=\u001b[39m\u001b[38;5;124m'\u001b[39m\u001b[38;5;124mdata_store_params\u001b[39m\u001b[38;5;124m'\u001b[39m,\n\u001b[0;32m     67\u001b[0m                         schema\u001b[38;5;241m=\u001b[39mdata_store_params_schema)\n",
      "File \u001b[1;32mc:\\users\\tonio\\projekte\\dcs4cop\\xcube\\xcube\\core\\store\\store.py:87\u001b[0m, in \u001b[0;36mget_data_store_class\u001b[1;34m(data_store_id, extension_registry)\u001b[0m\n\u001b[0;32m     84\u001b[0m extension_registry \u001b[38;5;241m=\u001b[39m extension_registry \u001b[38;5;129;01mor\u001b[39;00m get_extension_registry()\n\u001b[0;32m     85\u001b[0m \u001b[38;5;28;01mif\u001b[39;00m \u001b[38;5;129;01mnot\u001b[39;00m extension_registry\u001b[38;5;241m.\u001b[39mhas_extension(EXTENSION_POINT_DATA_STORES,\n\u001b[0;32m     86\u001b[0m                                         data_store_id):\n\u001b[1;32m---> 87\u001b[0m     \u001b[38;5;28;01mraise\u001b[39;00m DataStoreError(\u001b[38;5;124mf\u001b[39m\u001b[38;5;124m'\u001b[39m\u001b[38;5;124mUnknown data store \u001b[39m\u001b[38;5;124m\"\u001b[39m\u001b[38;5;132;01m{\u001b[39;00mdata_store_id\u001b[38;5;132;01m}\u001b[39;00m\u001b[38;5;124m\"\u001b[39m\u001b[38;5;124m'\u001b[39m\n\u001b[0;32m     88\u001b[0m                          \u001b[38;5;124mf\u001b[39m\u001b[38;5;124m'\u001b[39m\u001b[38;5;124m (may be due to missing xcube plugin)\u001b[39m\u001b[38;5;124m'\u001b[39m)\n\u001b[0;32m     89\u001b[0m \u001b[38;5;28;01mreturn\u001b[39;00m extension_registry\u001b[38;5;241m.\u001b[39mget_component(EXTENSION_POINT_DATA_STORES,\n\u001b[0;32m     90\u001b[0m                                         data_store_id)\n",
      "\u001b[1;31mDataStoreError\u001b[0m: Unknown data store \"sentinelhub\" (may be due to missing xcube plugin)"
     ]
    }
   ],
   "source": [
    "sh_store = new_data_store('sentinelhub', num_retries=400)"
   ]
  },
  {
   "cell_type": "code",
   "execution_count": null,
   "id": "070f89f7",
   "metadata": {},
   "outputs": [],
   "source": [
    "sh_store.get_open_data_params_schema('S2L2A')"
   ]
  },
  {
   "cell_type": "code",
   "execution_count": null,
   "id": "0a217a18",
   "metadata": {},
   "outputs": [],
   "source": [
    "mc_def = pd.read_csv(\"../3_eventcoord4minicube.csv\", delimiter=\"\\t\")\n",
    "mc_def"
   ]
  },
  {
   "cell_type": "code",
   "execution_count": null,
   "id": "a0821fe7",
   "metadata": {},
   "outputs": [],
   "source": [
    "r_earth = 6378137\n",
    "spatial_res_m = 20\n",
    "spatial_res = 360 * spatial_res_m / (2 * math.pi * r_earth)\n",
    "spatial_res"
   ]
  },
  {
   "cell_type": "code",
   "execution_count": null,
   "id": "084d2e3c",
   "metadata": {},
   "outputs": [],
   "source": [
    "spatial_res = 0.00018\n",
    "image_size = 256"
   ]
  },
  {
   "cell_type": "code",
   "execution_count": null,
   "id": "7a695045",
   "metadata": {},
   "outputs": [],
   "source": [
    "regions = []\n",
    "for row in mc_def.iterrows():\n",
    "    name, (center_lon, center_lat, _) = row\n",
    "    spatial_size = spatial_res * image_size / 2\n",
    "    bbox = (center_lon - spatial_size,\n",
    "            center_lat - spatial_size,\n",
    "            center_lon + spatial_size,\n",
    "            center_lat + spatial_size)\n",
    "    regions.append((name, (center_lon, center_lat), bbox))"
   ]
  },
  {
   "cell_type": "code",
   "execution_count": null,
   "id": "d86f8ed5",
   "metadata": {},
   "outputs": [],
   "source": [
    "polygon = shapely.geometry.MultiPolygon([shapely.geometry.box(*bbox) \n",
    "                                        for _, _, bbox in regions])\n",
    "IPython.display.GeoJSON(polygon.__geo_interface__)"
   ]
  },
  {
   "cell_type": "code",
   "execution_count": null,
   "id": "4818f89f",
   "metadata": {},
   "outputs": [],
   "source": [
    "s3_store = new_data_store(\"s3\", root=\"deepextremes\", storage_options=dict(anon=False))"
   ]
  },
  {
   "cell_type": "code",
   "execution_count": null,
   "id": "cb577d04",
   "metadata": {},
   "outputs": [],
   "source": [
    "for name, center, bbox in regions:\n",
    "    mc = sh_store.open_data('S2L2A', \n",
    "                            variable_names=['B02', 'B03', 'B04', 'B06', 'B8A',  'B11', 'SCL'], \n",
    "                            bbox=bbox, \n",
    "                            spatial_res=spatial_res, \n",
    "                            time_range=('2016-01-01','2022-08-01'), \n",
    "                            time_period=None)\n",
    "    out_path = f\"s2_l2a_{name}_x{center[0]}_y{center[1]}.zarr\"\n",
    "    display(f\"Writing {out_path}...\")\n",
    "    mc.to_zarr(f\"s2_l2a_{name}_x{center[0]}_y{center[1]}.zarr\", mode=\"w\")\n",
    "    # s3_store.write_data(mc, f\"s2_l2a_{name}_x{center[0]}_y{center[1]}.zarr\")\n",
    "    display(f\"Done.\")    "
   ]
  },
  {
   "cell_type": "code",
   "execution_count": null,
   "id": "2658d2ca",
   "metadata": {},
   "outputs": [],
   "source": []
  },
  {
   "cell_type": "code",
   "execution_count": null,
   "id": "8e74f2ce",
   "metadata": {},
   "outputs": [],
   "source": []
  },
  {
   "cell_type": "code",
   "execution_count": null,
   "id": "a801cf06",
   "metadata": {},
   "outputs": [],
   "source": []
  }
 ],
 "metadata": {
  "kernelspec": {
   "display_name": "Python 3 (ipykernel)",
   "language": "python",
   "name": "python3"
  },
  "language_info": {
   "codemirror_mode": {
    "name": "ipython",
    "version": 3
   },
   "file_extension": ".py",
   "mimetype": "text/x-python",
   "name": "python",
   "nbconvert_exporter": "python",
   "pygments_lexer": "ipython3",
   "version": "3.9.13"
  }
 },
 "nbformat": 4,
 "nbformat_minor": 5
}
